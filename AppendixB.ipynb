{
 "cells": [
  {
   "cell_type": "markdown",
   "id": "81ef46b3",
   "metadata": {},
   "source": [
    "# Variables"
   ]
  },
  {
   "cell_type": "code",
   "execution_count": 1,
   "id": "f77e7c35",
   "metadata": {},
   "outputs": [],
   "source": [
    "a = 10\n",
    "b = 'string_b'\n",
    "c = \"string_c\"\n",
    "d = 0.999"
   ]
  },
  {
   "cell_type": "code",
   "execution_count": 2,
   "id": "bc33d9e8",
   "metadata": {},
   "outputs": [
    {
     "name": "stdout",
     "output_type": "stream",
     "text": [
      "10 string_b string_c 0.999\n"
     ]
    }
   ],
   "source": [
    "print(a, b, c, d)"
   ]
  },
  {
   "cell_type": "code",
   "execution_count": 3,
   "id": "a36809cc",
   "metadata": {},
   "outputs": [],
   "source": [
    "t = (a, b)"
   ]
  },
  {
   "cell_type": "code",
   "execution_count": 4,
   "id": "2c0cbd49",
   "metadata": {},
   "outputs": [
    {
     "name": "stdout",
     "output_type": "stream",
     "text": [
      "(10, 'string_b')\n"
     ]
    }
   ],
   "source": [
    "print(t)"
   ]
  },
  {
   "cell_type": "code",
   "execution_count": 5,
   "id": "61c96ec4",
   "metadata": {},
   "outputs": [],
   "source": [
    "(c, d) = t"
   ]
  },
  {
   "cell_type": "code",
   "execution_count": 6,
   "id": "4669b669",
   "metadata": {},
   "outputs": [
    {
     "name": "stdout",
     "output_type": "stream",
     "text": [
      "10 string_b\n"
     ]
    }
   ],
   "source": [
    "print(c, d)"
   ]
  },
  {
   "cell_type": "code",
   "execution_count": 7,
   "id": "5999008e",
   "metadata": {},
   "outputs": [
    {
     "name": "stdout",
     "output_type": "stream",
     "text": [
      "a = 20\n",
      "b = 10\n"
     ]
    }
   ],
   "source": [
    "a = 10\n",
    "b = 20\n",
    "a, b = b, a\n",
    "print(\"a =\", a)\n",
    "print(\"b =\", b)"
   ]
  },
  {
   "cell_type": "code",
   "execution_count": 8,
   "id": "cf85cd5c",
   "metadata": {},
   "outputs": [
    {
     "name": "stdout",
     "output_type": "stream",
     "text": [
      "a = 20\n",
      "b = 10\n"
     ]
    }
   ],
   "source": [
    "print(\"a = %s\" % a)\n",
    "print(\"b = %s\" % b)"
   ]
  },
  {
   "cell_type": "code",
   "execution_count": 9,
   "id": "a644c560",
   "metadata": {},
   "outputs": [
    {
     "name": "stdout",
     "output_type": "stream",
     "text": [
      "n = 0.01\n"
     ]
    }
   ],
   "source": [
    "n = 0.0099999999\n",
    "print(\"n = %.2f\" % n)"
   ]
  },
  {
   "cell_type": "markdown",
   "id": "d060c0b0",
   "metadata": {},
   "source": [
    "# Control Flow"
   ]
  },
  {
   "cell_type": "markdown",
   "id": "78b69830",
   "metadata": {},
   "source": [
    "## Conditions"
   ]
  },
  {
   "cell_type": "code",
   "execution_count": 10,
   "id": "5697ab6a",
   "metadata": {},
   "outputs": [
    {
     "name": "stdout",
     "output_type": "stream",
     "text": [
      "the statement is true\n"
     ]
    }
   ],
   "source": [
    "a = 10\n",
    "if a >=5:\n",
    "    print('the statement is true')\n",
    "else:\n",
    "    print('the statement is false')"
   ]
  },
  {
   "cell_type": "code",
   "execution_count": 11,
   "id": "9a5b2679",
   "metadata": {},
   "outputs": [
    {
     "name": "stdout",
     "output_type": "stream",
     "text": [
      "the second statement is true\n"
     ]
    }
   ],
   "source": [
    "a = 3\n",
    "if a >=5:\n",
    "    print('the first statement is true')\n",
    "elif a >=0:\n",
    "    print('the second statement is true')\n",
    "else:\n",
    "    print('both statements are false')"
   ]
  },
  {
   "cell_type": "markdown",
   "id": "db4f52ab",
   "metadata": {},
   "source": [
    "## For Loop"
   ]
  },
  {
   "cell_type": "code",
   "execution_count": 14,
   "id": "8a0bd27d",
   "metadata": {},
   "outputs": [
    {
     "name": "stdout",
     "output_type": "stream",
     "text": [
      "0\n",
      "1\n",
      "2\n",
      "3\n",
      "4\n",
      "5\n",
      "6\n",
      "7\n",
      "8\n",
      "9\n"
     ]
    }
   ],
   "source": [
    "for i in range(10):\n",
    "    print(i)"
   ]
  },
  {
   "cell_type": "code",
   "execution_count": 15,
   "id": "a15a80c6",
   "metadata": {},
   "outputs": [
    {
     "name": "stdout",
     "output_type": "stream",
     "text": [
      "10\n",
      "15\n",
      "20\n",
      "25\n",
      "30\n",
      "35\n",
      "40\n",
      "45\n",
      "50\n",
      "55\n",
      "60\n",
      "65\n",
      "70\n",
      "75\n",
      "80\n",
      "85\n",
      "90\n",
      "95\n"
     ]
    }
   ],
   "source": [
    "for i in range(10, 100, 5):\n",
    "    print(i)"
   ]
  },
  {
   "cell_type": "code",
   "execution_count": 16,
   "id": "999b860d",
   "metadata": {},
   "outputs": [
    {
     "name": "stdout",
     "output_type": "stream",
     "text": [
      "0\n",
      "1\n",
      "2\n",
      "3\n",
      "4\n",
      "5\n",
      "6\n"
     ]
    }
   ],
   "source": [
    "for i in range(10):\n",
    "    print(i)\n",
    "    if i > 5:\n",
    "        break"
   ]
  },
  {
   "cell_type": "code",
   "execution_count": 17,
   "id": "b8a70dfd",
   "metadata": {},
   "outputs": [
    {
     "name": "stdout",
     "output_type": "stream",
     "text": [
      "6\n",
      "7\n",
      "8\n",
      "9\n"
     ]
    }
   ],
   "source": [
    "for i in range(10):\n",
    "    if i <=5:\n",
    "        continue\n",
    "    print(i)"
   ]
  },
  {
   "cell_type": "markdown",
   "id": "231cf569",
   "metadata": {},
   "source": [
    "## While Loop"
   ]
  },
  {
   "cell_type": "code",
   "execution_count": 18,
   "id": "74ca55d8",
   "metadata": {},
   "outputs": [
    {
     "name": "stdout",
     "output_type": "stream",
     "text": [
      "0\n",
      "1\n",
      "2\n",
      "3\n",
      "4\n",
      "5\n"
     ]
    }
   ],
   "source": [
    "cnt = 0\n",
    "while cnt <= 5:\n",
    "    print(cnt)\n",
    "    cnt = cnt + 1"
   ]
  },
  {
   "cell_type": "markdown",
   "id": "3d153e81",
   "metadata": {},
   "source": [
    "# Collections"
   ]
  },
  {
   "cell_type": "markdown",
   "id": "a375eb80",
   "metadata": {},
   "source": [
    "## Lists"
   ]
  },
  {
   "cell_type": "code",
   "execution_count": 19,
   "id": "bb0b8629",
   "metadata": {},
   "outputs": [],
   "source": [
    "numbers = [1, 2, 3, 5, 7, 11, 13]"
   ]
  },
  {
   "cell_type": "code",
   "execution_count": 20,
   "id": "de9d041c",
   "metadata": {},
   "outputs": [
    {
     "name": "stdout",
     "output_type": "stream",
     "text": [
      "2\n"
     ]
    }
   ],
   "source": [
    "el = numbers[1]\n",
    "print(el)"
   ]
  },
  {
   "cell_type": "code",
   "execution_count": 21,
   "id": "ba2f7d94",
   "metadata": {},
   "outputs": [],
   "source": [
    "numbers[1] = -2"
   ]
  },
  {
   "cell_type": "code",
   "execution_count": 22,
   "id": "0f3a6fd6",
   "metadata": {},
   "outputs": [
    {
     "name": "stdout",
     "output_type": "stream",
     "text": [
      "[1, -2, 3, 5, 7, 11, 13]\n"
     ]
    }
   ],
   "source": [
    "print(numbers)"
   ]
  },
  {
   "cell_type": "code",
   "execution_count": 23,
   "id": "45077745",
   "metadata": {},
   "outputs": [
    {
     "name": "stdout",
     "output_type": "stream",
     "text": [
      "13 11\n"
     ]
    }
   ],
   "source": [
    "print(numbers[-1], numbers[-2])"
   ]
  },
  {
   "cell_type": "code",
   "execution_count": 24,
   "id": "c82d5185",
   "metadata": {},
   "outputs": [],
   "source": [
    "numbers.append(17)"
   ]
  },
  {
   "cell_type": "code",
   "execution_count": 25,
   "id": "7717f9a9",
   "metadata": {},
   "outputs": [
    {
     "name": "stdout",
     "output_type": "stream",
     "text": [
      "1\n",
      "-2\n",
      "3\n",
      "5\n",
      "7\n",
      "11\n",
      "13\n",
      "17\n"
     ]
    }
   ],
   "source": [
    "for n in numbers:\n",
    "    print(n)"
   ]
  },
  {
   "cell_type": "code",
   "execution_count": 26,
   "id": "a881ad0d",
   "metadata": {},
   "outputs": [
    {
     "name": "stdout",
     "output_type": "stream",
     "text": [
      "numbers[0] = 1\n",
      "numbers[1] = -2\n",
      "numbers[2] = 3\n",
      "numbers[3] = 5\n",
      "numbers[4] = 7\n",
      "numbers[5] = 11\n",
      "numbers[6] = 13\n",
      "numbers[7] = 17\n"
     ]
    }
   ],
   "source": [
    "for i in range(len(numbers)):\n",
    "    n = numbers[i]\n",
    "    print(\"numbers[%d] = %d\" % (i, n))"
   ]
  },
  {
   "cell_type": "code",
   "execution_count": 27,
   "id": "afd9388d",
   "metadata": {},
   "outputs": [
    {
     "name": "stdout",
     "output_type": "stream",
     "text": [
      "numbers[0] = 1\n",
      "numbers[1] = -2\n",
      "numbers[2] = 3\n",
      "numbers[3] = 5\n",
      "numbers[4] = 7\n",
      "numbers[5] = 11\n",
      "numbers[6] = 13\n",
      "numbers[7] = 17\n"
     ]
    }
   ],
   "source": [
    "for i, n in enumerate(numbers):\n",
    "    print(\"numbers[%d] = %d\" % (i, n))"
   ]
  },
  {
   "cell_type": "code",
   "execution_count": 28,
   "id": "9bca5421",
   "metadata": {},
   "outputs": [],
   "source": [
    "list1 = [1, 2, 3, 5]\n",
    "list2 = [7, 11, 13, 17]"
   ]
  },
  {
   "cell_type": "code",
   "execution_count": 29,
   "id": "5b324c9f",
   "metadata": {},
   "outputs": [],
   "source": [
    "new_list = list1 + list2"
   ]
  },
  {
   "cell_type": "code",
   "execution_count": 30,
   "id": "a6abd14c",
   "metadata": {},
   "outputs": [
    {
     "name": "stdout",
     "output_type": "stream",
     "text": [
      "[1, 2, 3, 5, 7, 11, 13, 17]\n"
     ]
    }
   ],
   "source": [
    "print(new_list)"
   ]
  },
  {
   "cell_type": "code",
   "execution_count": 31,
   "id": "097b6e81",
   "metadata": {},
   "outputs": [],
   "source": [
    "list1 = [1, 2, 3, 5]\n",
    "list2 = [7, 11, 13, 17]\n",
    "list3 = [19, 23, 27, 29]\n"
   ]
  },
  {
   "cell_type": "code",
   "execution_count": 32,
   "id": "5ae4d307",
   "metadata": {},
   "outputs": [],
   "source": [
    "lists = [list1, list2, list3]"
   ]
  },
  {
   "cell_type": "code",
   "execution_count": 33,
   "id": "f00bd82d",
   "metadata": {},
   "outputs": [
    {
     "name": "stdout",
     "output_type": "stream",
     "text": [
      "[1, 2, 3, 5]\n",
      "[7, 11, 13, 17]\n",
      "[19, 23, 27, 29]\n"
     ]
    }
   ],
   "source": [
    "for l in lists:\n",
    "    print(l)"
   ]
  },
  {
   "cell_type": "markdown",
   "id": "a4984c9a",
   "metadata": {},
   "source": [
    "### Slicing"
   ]
  },
  {
   "cell_type": "code",
   "execution_count": 34,
   "id": "3c7f6b53",
   "metadata": {},
   "outputs": [],
   "source": [
    "numbers = [1, 2, 3, 5, 7]"
   ]
  },
  {
   "cell_type": "code",
   "execution_count": 35,
   "id": "f5d8ec6b",
   "metadata": {},
   "outputs": [],
   "source": [
    "top3 = numbers[0:3]"
   ]
  },
  {
   "cell_type": "code",
   "execution_count": 36,
   "id": "b8dc8f02",
   "metadata": {},
   "outputs": [
    {
     "name": "stdout",
     "output_type": "stream",
     "text": [
      "[1, 2, 3]\n"
     ]
    }
   ],
   "source": [
    "print(top3)"
   ]
  },
  {
   "cell_type": "code",
   "execution_count": 37,
   "id": "520cecec",
   "metadata": {},
   "outputs": [],
   "source": [
    "top3 = numbers[:3]"
   ]
  },
  {
   "cell_type": "code",
   "execution_count": 38,
   "id": "3c4e8287",
   "metadata": {},
   "outputs": [
    {
     "name": "stdout",
     "output_type": "stream",
     "text": [
      "[1, 2, 3]\n"
     ]
    }
   ],
   "source": [
    "print(top3)"
   ]
  },
  {
   "cell_type": "code",
   "execution_count": 39,
   "id": "466903e4",
   "metadata": {},
   "outputs": [],
   "source": [
    "last3 = numbers[2:]"
   ]
  },
  {
   "cell_type": "code",
   "execution_count": 40,
   "id": "a039026c",
   "metadata": {},
   "outputs": [
    {
     "name": "stdout",
     "output_type": "stream",
     "text": [
      "[3, 5, 7]\n"
     ]
    }
   ],
   "source": [
    "print(last3)"
   ]
  },
  {
   "cell_type": "markdown",
   "id": "61a831b6",
   "metadata": {},
   "source": [
    "## Tuples"
   ]
  },
  {
   "cell_type": "code",
   "execution_count": 41,
   "id": "f0183023",
   "metadata": {},
   "outputs": [],
   "source": [
    "numbers = (1, 2, 3, 5, 7, 11, 13)"
   ]
  },
  {
   "cell_type": "code",
   "execution_count": 42,
   "id": "d82f0387",
   "metadata": {},
   "outputs": [
    {
     "name": "stdout",
     "output_type": "stream",
     "text": [
      "2\n"
     ]
    }
   ],
   "source": [
    "el = numbers[1]\n",
    "print(el)"
   ]
  },
  {
   "cell_type": "code",
   "execution_count": 43,
   "id": "4e47e631",
   "metadata": {},
   "outputs": [
    {
     "ename": "TypeError",
     "evalue": "'tuple' object does not support item assignment",
     "output_type": "error",
     "traceback": [
      "\u001b[1;31m---------------------------------------------------------------------------\u001b[0m",
      "\u001b[1;31mTypeError\u001b[0m                                 Traceback (most recent call last)",
      "Cell \u001b[1;32mIn[43], line 1\u001b[0m\n\u001b[1;32m----> 1\u001b[0m numbers[\u001b[38;5;241m1\u001b[39m] \u001b[38;5;241m=\u001b[39m \u001b[38;5;241m-\u001b[39m\u001b[38;5;241m2\u001b[39m\n",
      "\u001b[1;31mTypeError\u001b[0m: 'tuple' object does not support item assignment"
     ]
    }
   ],
   "source": [
    "numbers[1] = -2"
   ]
  },
  {
   "cell_type": "code",
   "execution_count": 44,
   "id": "e7300fc4",
   "metadata": {},
   "outputs": [],
   "source": [
    "numbers = numbers + (17,)"
   ]
  },
  {
   "cell_type": "code",
   "execution_count": 45,
   "id": "64fed943",
   "metadata": {},
   "outputs": [
    {
     "name": "stdout",
     "output_type": "stream",
     "text": [
      "(1, 2, 3, 5, 7, 11, 13, 17)\n"
     ]
    }
   ],
   "source": [
    "print(numbers)"
   ]
  },
  {
   "cell_type": "markdown",
   "id": "1057c447",
   "metadata": {},
   "source": [
    "## Set"
   ]
  },
  {
   "cell_type": "code",
   "execution_count": 46,
   "id": "13d48c9e",
   "metadata": {},
   "outputs": [],
   "source": [
    "numbers = {1, 2, 3, 5, 7, 11, 13}"
   ]
  },
  {
   "cell_type": "code",
   "execution_count": 47,
   "id": "140daef1",
   "metadata": {},
   "outputs": [
    {
     "name": "stdout",
     "output_type": "stream",
     "text": [
      "{1, 2, 3, 5, 7, 11, 13}\n"
     ]
    }
   ],
   "source": [
    "print(numbers)"
   ]
  },
  {
   "cell_type": "code",
   "execution_count": 48,
   "id": "68465d30",
   "metadata": {},
   "outputs": [],
   "source": [
    "empty_set = set()"
   ]
  },
  {
   "cell_type": "code",
   "execution_count": 49,
   "id": "5f8b09ec",
   "metadata": {},
   "outputs": [
    {
     "name": "stdout",
     "output_type": "stream",
     "text": [
      "set()\n"
     ]
    }
   ],
   "source": [
    "print(empty_set)"
   ]
  },
  {
   "cell_type": "code",
   "execution_count": 50,
   "id": "94ed8188",
   "metadata": {},
   "outputs": [],
   "source": [
    "empty_dict = {}"
   ]
  },
  {
   "cell_type": "code",
   "execution_count": 51,
   "id": "704789e0",
   "metadata": {},
   "outputs": [
    {
     "name": "stdout",
     "output_type": "stream",
     "text": [
      "{}\n"
     ]
    }
   ],
   "source": [
    "print(empty_dict)"
   ]
  },
  {
   "cell_type": "code",
   "execution_count": 52,
   "id": "da2d168d",
   "metadata": {},
   "outputs": [
    {
     "name": "stdout",
     "output_type": "stream",
     "text": [
      "True\n"
     ]
    }
   ],
   "source": [
    "print(1 in numbers)"
   ]
  },
  {
   "cell_type": "code",
   "execution_count": 53,
   "id": "3cf12049",
   "metadata": {},
   "outputs": [],
   "source": [
    "numbers.add(17)"
   ]
  },
  {
   "cell_type": "code",
   "execution_count": 54,
   "id": "b49ba23d",
   "metadata": {},
   "outputs": [
    {
     "name": "stdout",
     "output_type": "stream",
     "text": [
      "{1, 2, 3, 17, 5, 7, 11, 13}\n"
     ]
    }
   ],
   "source": [
    "print(numbers)"
   ]
  },
  {
   "cell_type": "code",
   "execution_count": 55,
   "id": "911aea95",
   "metadata": {},
   "outputs": [
    {
     "name": "stdout",
     "output_type": "stream",
     "text": [
      "1\n",
      "2\n",
      "3\n",
      "17\n",
      "5\n",
      "7\n",
      "11\n",
      "13\n"
     ]
    }
   ],
   "source": [
    "for n in numbers:\n",
    "    print(n)"
   ]
  },
  {
   "cell_type": "markdown",
   "id": "94132d5a",
   "metadata": {},
   "source": [
    "## Dictionaries"
   ]
  },
  {
   "cell_type": "code",
   "execution_count": 56,
   "id": "de75ad77",
   "metadata": {},
   "outputs": [],
   "source": [
    "words_to_numbers = {\n",
    "'one' : 1,\n",
    "'two' : 2,\n",
    "'three' : 3,\n",
    "}"
   ]
  },
  {
   "cell_type": "code",
   "execution_count": 57,
   "id": "0c99e415",
   "metadata": {},
   "outputs": [
    {
     "name": "stdout",
     "output_type": "stream",
     "text": [
      "{'one': 1, 'two': 2, 'three': 3}\n"
     ]
    }
   ],
   "source": [
    "print(words_to_numbers)"
   ]
  },
  {
   "cell_type": "code",
   "execution_count": 58,
   "id": "4ce4955f",
   "metadata": {},
   "outputs": [
    {
     "name": "stdout",
     "output_type": "stream",
     "text": [
      "1\n"
     ]
    }
   ],
   "source": [
    "print(words_to_numbers['one'])"
   ]
  },
  {
   "cell_type": "code",
   "execution_count": 59,
   "id": "1c029265",
   "metadata": {},
   "outputs": [
    {
     "ename": "KeyError",
     "evalue": "'five'",
     "output_type": "error",
     "traceback": [
      "\u001b[1;31m---------------------------------------------------------------------------\u001b[0m",
      "\u001b[1;31mKeyError\u001b[0m                                  Traceback (most recent call last)",
      "Cell \u001b[1;32mIn[59], line 1\u001b[0m\n\u001b[1;32m----> 1\u001b[0m \u001b[38;5;28mprint\u001b[39m(words_to_numbers[\u001b[38;5;124m'\u001b[39m\u001b[38;5;124mfive\u001b[39m\u001b[38;5;124m'\u001b[39m])\n",
      "\u001b[1;31mKeyError\u001b[0m: 'five'"
     ]
    }
   ],
   "source": [
    "print(words_to_numbers['five'])"
   ]
  },
  {
   "cell_type": "code",
   "execution_count": 60,
   "id": "730166c6",
   "metadata": {},
   "outputs": [
    {
     "name": "stdout",
     "output_type": "stream",
     "text": [
      "not in the dictionary\n"
     ]
    }
   ],
   "source": [
    "if 'five' in words_to_numbers:\n",
    "    print(words_to_numbers['five'])\n",
    "else:\n",
    "    print('not in the dictionary')"
   ]
  },
  {
   "cell_type": "code",
   "execution_count": 61,
   "id": "b6dbbbae",
   "metadata": {},
   "outputs": [
    {
     "name": "stdout",
     "output_type": "stream",
     "text": [
      "None\n"
     ]
    }
   ],
   "source": [
    "value = words_to_numbers.get('five')\n",
    "print(value)"
   ]
  },
  {
   "cell_type": "code",
   "execution_count": 62,
   "id": "e4699fd3",
   "metadata": {},
   "outputs": [
    {
     "name": "stdout",
     "output_type": "stream",
     "text": [
      "-1\n"
     ]
    }
   ],
   "source": [
    "value = words_to_numbers.get('five', -1)\n",
    "print(value)"
   ]
  },
  {
   "cell_type": "code",
   "execution_count": 63,
   "id": "dd0293b5",
   "metadata": {},
   "outputs": [
    {
     "name": "stdout",
     "output_type": "stream",
     "text": [
      "one: 1\n",
      "two: 2\n",
      "three: 3\n"
     ]
    }
   ],
   "source": [
    "for k in words_to_numbers.keys():\n",
    "    v = words_to_numbers[k]\n",
    "    print(\"%s: %d\" % (k,v))"
   ]
  },
  {
   "cell_type": "code",
   "execution_count": 64,
   "id": "30870515",
   "metadata": {},
   "outputs": [
    {
     "name": "stdout",
     "output_type": "stream",
     "text": [
      "one: 1\n",
      "two: 2\n",
      "three: 3\n"
     ]
    }
   ],
   "source": [
    "for k, v in words_to_numbers.items():\n",
    "    print(\"%s: %d\" % (k, v))"
   ]
  },
  {
   "cell_type": "markdown",
   "id": "5e28040b",
   "metadata": {},
   "source": [
    "## List comprehension"
   ]
  },
  {
   "cell_type": "code",
   "execution_count": 65,
   "id": "c1524d83",
   "metadata": {},
   "outputs": [],
   "source": [
    "numbers = [1, 2, 3, 5, 7]"
   ]
  },
  {
   "cell_type": "code",
   "execution_count": 66,
   "id": "201d3793",
   "metadata": {},
   "outputs": [],
   "source": [
    "squared = []"
   ]
  },
  {
   "cell_type": "code",
   "execution_count": 67,
   "id": "ae91ecf6",
   "metadata": {},
   "outputs": [],
   "source": [
    "for n in numbers:\n",
    "    s = n * n\n",
    "    squared.append(s)"
   ]
  },
  {
   "cell_type": "code",
   "execution_count": 68,
   "id": "63a3ef40",
   "metadata": {},
   "outputs": [
    {
     "name": "stdout",
     "output_type": "stream",
     "text": [
      "[1, 4, 9, 25, 49]\n"
     ]
    }
   ],
   "source": [
    "print(squared)"
   ]
  },
  {
   "cell_type": "code",
   "execution_count": 69,
   "id": "04463fb6",
   "metadata": {},
   "outputs": [],
   "source": [
    "squared = [n * n for n in numbers]"
   ]
  },
  {
   "cell_type": "code",
   "execution_count": 70,
   "id": "c7af40c5",
   "metadata": {},
   "outputs": [
    {
     "name": "stdout",
     "output_type": "stream",
     "text": [
      "[1, 4, 9, 25, 49]\n"
     ]
    }
   ],
   "source": [
    "print(squared)"
   ]
  },
  {
   "cell_type": "code",
   "execution_count": 71,
   "id": "2f10e661",
   "metadata": {},
   "outputs": [],
   "source": [
    "squared = [n * n for n in numbers if n > 3]"
   ]
  },
  {
   "cell_type": "code",
   "execution_count": 72,
   "id": "ae2985ba",
   "metadata": {},
   "outputs": [
    {
     "name": "stdout",
     "output_type": "stream",
     "text": [
      "[25, 49]\n"
     ]
    }
   ],
   "source": [
    "print(squared)"
   ]
  },
  {
   "cell_type": "markdown",
   "id": "de9b9646",
   "metadata": {},
   "source": [
    "# Code Reusability"
   ]
  },
  {
   "cell_type": "code",
   "execution_count": 73,
   "id": "b2b47f2b",
   "metadata": {},
   "outputs": [],
   "source": [
    "def print_numbers(max):\n",
    "    for i in range(max + 1):\n",
    "        print(i)"
   ]
  },
  {
   "cell_type": "code",
   "execution_count": 74,
   "id": "0742595e",
   "metadata": {},
   "outputs": [
    {
     "name": "stdout",
     "output_type": "stream",
     "text": [
      "0\n",
      "1\n",
      "2\n",
      "3\n",
      "4\n",
      "5\n",
      "6\n",
      "7\n",
      "8\n",
      "9\n",
      "10\n"
     ]
    }
   ],
   "source": [
    "print_numbers(10)"
   ]
  },
  {
   "cell_type": "code",
   "execution_count": 75,
   "id": "bc9d3c23",
   "metadata": {},
   "outputs": [
    {
     "name": "stdout",
     "output_type": "stream",
     "text": [
      "0\n",
      "1\n",
      "2\n",
      "3\n",
      "4\n",
      "5\n",
      "6\n",
      "7\n",
      "8\n",
      "9\n",
      "10\n"
     ]
    }
   ],
   "source": [
    "print_numbers(max=10)"
   ]
  },
  {
   "cell_type": "code",
   "execution_count": 79,
   "id": "0d11dbe5",
   "metadata": {},
   "outputs": [],
   "source": [
    "class NumberPrinter:\n",
    "    def __init__(self, max):\n",
    "        self.max = max\n",
    "\n",
    "    def print_numbers(self):\n",
    "        for i in range(self.max + 1):\n",
    "            print(i)\n",
    "\n",
    "        \n",
    "        "
   ]
  },
  {
   "cell_type": "code",
   "execution_count": 80,
   "id": "403e2f6d",
   "metadata": {},
   "outputs": [],
   "source": [
    "num_printer = NumberPrinter(max=10)"
   ]
  },
  {
   "cell_type": "code",
   "execution_count": 81,
   "id": "61c980ee",
   "metadata": {},
   "outputs": [
    {
     "name": "stdout",
     "output_type": "stream",
     "text": [
      "0\n",
      "1\n",
      "2\n",
      "3\n",
      "4\n",
      "5\n",
      "6\n",
      "7\n",
      "8\n",
      "9\n",
      "10\n"
     ]
    }
   ],
   "source": [
    "num_printer.print_numbers()"
   ]
  },
  {
   "cell_type": "markdown",
   "id": "8ff13d4b",
   "metadata": {},
   "source": [
    "## Importing Code"
   ]
  },
  {
   "cell_type": "code",
   "execution_count": 82,
   "id": "b3fb3753",
   "metadata": {},
   "outputs": [],
   "source": [
    "import useful_code"
   ]
  },
  {
   "cell_type": "code",
   "execution_count": 83,
   "id": "53ac31e3",
   "metadata": {},
   "outputs": [
    {
     "name": "stdout",
     "output_type": "stream",
     "text": [
      "0\n",
      "1\n",
      "2\n",
      "3\n",
      "4\n",
      "5\n",
      "6\n",
      "7\n",
      "8\n",
      "9\n",
      "10\n"
     ]
    }
   ],
   "source": [
    "num_printer = useful_code.NumberPrinter(max=10)\n",
    "num_printer.print_numbers()"
   ]
  },
  {
   "cell_type": "code",
   "execution_count": 84,
   "id": "5dc01fdc",
   "metadata": {},
   "outputs": [
    {
     "name": "stdout",
     "output_type": "stream",
     "text": [
      "0\n",
      "1\n",
      "2\n",
      "3\n",
      "4\n",
      "5\n",
      "6\n",
      "7\n",
      "8\n",
      "9\n",
      "10\n"
     ]
    }
   ],
   "source": [
    "import useful_code as uc\n",
    "num_printer = uc.NumberPrinter(max=10)\n",
    "num_printer.print_numbers()"
   ]
  },
  {
   "cell_type": "markdown",
   "id": "01e84387",
   "metadata": {},
   "source": [
    "## Installing Libraries"
   ]
  },
  {
   "cell_type": "code",
   "execution_count": 85,
   "id": "3d2da9fa",
   "metadata": {},
   "outputs": [
    {
     "name": "stdout",
     "output_type": "stream",
     "text": [
      "Requirement already satisfied: numpy in c:\\users\\rahul julka\\anaconda3\\lib\\site-packages (1.24.3)Note: you may need to restart the kernel to use updated packages.\n",
      "\n",
      "Requirement already satisfied: scipy in c:\\users\\rahul julka\\anaconda3\\lib\\site-packages (1.11.1)\n",
      "Requirement already satisfied: pandas in c:\\users\\rahul julka\\anaconda3\\lib\\site-packages (2.0.3)\n",
      "Requirement already satisfied: python-dateutil>=2.8.2 in c:\\users\\rahul julka\\anaconda3\\lib\\site-packages (from pandas) (2.8.2)\n",
      "Requirement already satisfied: pytz>=2020.1 in c:\\users\\rahul julka\\anaconda3\\lib\\site-packages (from pandas) (2023.3.post1)\n",
      "Requirement already satisfied: tzdata>=2022.1 in c:\\users\\rahul julka\\anaconda3\\lib\\site-packages (from pandas) (2023.3)\n",
      "Requirement already satisfied: six>=1.5 in c:\\users\\rahul julka\\anaconda3\\lib\\site-packages (from python-dateutil>=2.8.2->pandas) (1.16.0)\n"
     ]
    }
   ],
   "source": [
    "pip install numpy scipy pandas"
   ]
  },
  {
   "cell_type": "code",
   "execution_count": null,
   "id": "125c8abd",
   "metadata": {},
   "outputs": [],
   "source": []
  }
 ],
 "metadata": {
  "kernelspec": {
   "display_name": "Python 3 (ipykernel)",
   "language": "python",
   "name": "python3"
  },
  "language_info": {
   "codemirror_mode": {
    "name": "ipython",
    "version": 3
   },
   "file_extension": ".py",
   "mimetype": "text/x-python",
   "name": "python",
   "nbconvert_exporter": "python",
   "pygments_lexer": "ipython3",
   "version": "3.11.5"
  }
 },
 "nbformat": 4,
 "nbformat_minor": 5
}
