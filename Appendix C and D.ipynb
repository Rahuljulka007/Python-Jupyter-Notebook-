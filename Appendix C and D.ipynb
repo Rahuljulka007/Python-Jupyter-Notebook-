{
 "cells": [
  {
   "cell_type": "code",
   "execution_count": 1,
   "id": "e0bad97b",
   "metadata": {},
   "outputs": [],
   "source": [
    "import numpy as np"
   ]
  },
  {
   "cell_type": "markdown",
   "id": "7d64f629",
   "metadata": {},
   "source": [
    "## Numpy arrays"
   ]
  },
  {
   "cell_type": "code",
   "execution_count": 2,
   "id": "ea085f44",
   "metadata": {},
   "outputs": [],
   "source": [
    "zeros = np.zeros(10)"
   ]
  },
  {
   "cell_type": "code",
   "execution_count": 3,
   "id": "ef81c159",
   "metadata": {},
   "outputs": [
    {
     "data": {
      "text/plain": [
       "array([0., 0., 0., 0., 0., 0., 0., 0., 0., 0.])"
      ]
     },
     "execution_count": 3,
     "metadata": {},
     "output_type": "execute_result"
    }
   ],
   "source": [
    "zeros"
   ]
  },
  {
   "cell_type": "code",
   "execution_count": 4,
   "id": "e9c454d1",
   "metadata": {},
   "outputs": [
    {
     "data": {
      "text/plain": [
       "array([1., 1., 1., 1., 1., 1., 1., 1., 1., 1.])"
      ]
     },
     "execution_count": 4,
     "metadata": {},
     "output_type": "execute_result"
    }
   ],
   "source": [
    "ones = np.ones(10)\n",
    "ones"
   ]
  },
  {
   "cell_type": "code",
   "execution_count": 5,
   "id": "f56f7a24",
   "metadata": {},
   "outputs": [
    {
     "data": {
      "text/plain": [
       "array([0., 0., 0., 0., 0., 0., 0., 0., 0., 0.])"
      ]
     },
     "execution_count": 5,
     "metadata": {},
     "output_type": "execute_result"
    }
   ],
   "source": [
    "array = np.full(10, 0.0)\n",
    "array"
   ]
  },
  {
   "cell_type": "code",
   "execution_count": 6,
   "id": "ec937962",
   "metadata": {},
   "outputs": [
    {
     "data": {
      "text/plain": [
       "array([0., 0., 0., 0., 0., 0., 0., 0., 0., 0.])"
      ]
     },
     "execution_count": 6,
     "metadata": {},
     "output_type": "execute_result"
    }
   ],
   "source": [
    "array = np.repeat(0.0, 10)\n",
    "array"
   ]
  },
  {
   "cell_type": "code",
   "execution_count": 7,
   "id": "6765a9f4",
   "metadata": {},
   "outputs": [
    {
     "data": {
      "text/plain": [
       "array([0., 0., 0., 0., 0., 1., 1., 1., 1., 1.])"
      ]
     },
     "execution_count": 7,
     "metadata": {},
     "output_type": "execute_result"
    }
   ],
   "source": [
    "array = np.repeat([0.0, 1.0], 5)\n",
    "array"
   ]
  },
  {
   "cell_type": "code",
   "execution_count": 8,
   "id": "6a046788",
   "metadata": {},
   "outputs": [
    {
     "data": {
      "text/plain": [
       "array([0., 0., 1., 1., 1.])"
      ]
     },
     "execution_count": 8,
     "metadata": {},
     "output_type": "execute_result"
    }
   ],
   "source": [
    "array = np.repeat([0.0, 1.0], [2,3])\n",
    "array"
   ]
  },
  {
   "cell_type": "code",
   "execution_count": 9,
   "id": "832a2980",
   "metadata": {},
   "outputs": [
    {
     "name": "stdout",
     "output_type": "stream",
     "text": [
      "0.0\n"
     ]
    }
   ],
   "source": [
    "el = array[1]\n",
    "print(el)"
   ]
  },
  {
   "cell_type": "code",
   "execution_count": 10,
   "id": "b318f39d",
   "metadata": {},
   "outputs": [
    {
     "name": "stdout",
     "output_type": "stream",
     "text": [
      "[1. 1. 0.]\n"
     ]
    }
   ],
   "source": [
    "print(array[[4, 2, 0]])"
   ]
  },
  {
   "cell_type": "code",
   "execution_count": 11,
   "id": "7370e3a3",
   "metadata": {},
   "outputs": [
    {
     "name": "stdout",
     "output_type": "stream",
     "text": [
      "[0. 1. 1. 1. 1.]\n"
     ]
    }
   ],
   "source": [
    "array[1] = 1\n",
    "print(array)"
   ]
  },
  {
   "cell_type": "code",
   "execution_count": 12,
   "id": "dff49655",
   "metadata": {},
   "outputs": [
    {
     "data": {
      "text/plain": [
       "array([1, 2, 3, 4])"
      ]
     },
     "execution_count": 12,
     "metadata": {},
     "output_type": "execute_result"
    }
   ],
   "source": [
    "elements = [1, 2, 3, 4]\n",
    "array = np.array(elements)\n",
    "array"
   ]
  },
  {
   "cell_type": "code",
   "execution_count": 13,
   "id": "4f761350",
   "metadata": {},
   "outputs": [
    {
     "data": {
      "text/plain": [
       "array([0, 1, 2, 3, 4, 5, 6, 7, 8, 9])"
      ]
     },
     "execution_count": 13,
     "metadata": {},
     "output_type": "execute_result"
    }
   ],
   "source": [
    "np.arange(10)"
   ]
  },
  {
   "cell_type": "code",
   "execution_count": 14,
   "id": "359471a6",
   "metadata": {},
   "outputs": [
    {
     "data": {
      "text/plain": [
       "array([0. , 0.1, 0.2, 0.3, 0.4, 0.5, 0.6, 0.7, 0.8, 0.9, 1. ])"
      ]
     },
     "execution_count": 14,
     "metadata": {},
     "output_type": "execute_result"
    }
   ],
   "source": [
    "thresholds = np.linspace(0, 1, 11)\n",
    "thresholds"
   ]
  },
  {
   "cell_type": "code",
   "execution_count": 15,
   "id": "cde6e5b7",
   "metadata": {},
   "outputs": [
    {
     "data": {
      "text/plain": [
       "array([0, 0, 0, 0, 0, 0, 0, 0, 0, 0], dtype=uint8)"
      ]
     },
     "execution_count": 15,
     "metadata": {},
     "output_type": "execute_result"
    }
   ],
   "source": [
    "zeros = np.zeros(10, dtype=np.uint8)\n",
    "zeros"
   ]
  },
  {
   "cell_type": "code",
   "execution_count": 16,
   "id": "2791a8d3",
   "metadata": {},
   "outputs": [
    {
     "name": "stdout",
     "output_type": "stream",
     "text": [
      "44\n"
     ]
    },
    {
     "name": "stderr",
     "output_type": "stream",
     "text": [
      "C:\\Users\\RAHUL JULKA\\AppData\\Local\\Temp\\ipykernel_19868\\2020449431.py:1: DeprecationWarning: NumPy will stop allowing conversion of out-of-bound Python integers to integer arrays.  The conversion of 300 to uint8 will fail in the future.\n",
      "For the old behavior, usually:\n",
      "    np.array(value).astype(dtype)`\n",
      "will give the desired result (the cast overflows).\n",
      "  zeros[0] = 300\n"
     ]
    }
   ],
   "source": [
    "zeros[0] = 300\n",
    "print(zeros[0])"
   ]
  },
  {
   "cell_type": "code",
   "execution_count": 17,
   "id": "423a0d48",
   "metadata": {},
   "outputs": [
    {
     "name": "stdout",
     "output_type": "stream",
     "text": [
      "0\n",
      "1\n",
      "2\n",
      "3\n",
      "4\n"
     ]
    }
   ],
   "source": [
    "for i in np.arange(5):\n",
    "    print(i)"
   ]
  },
  {
   "cell_type": "markdown",
   "id": "0f1c1e11",
   "metadata": {},
   "source": [
    "## Two-dimensional NumPy arrays"
   ]
  },
  {
   "cell_type": "code",
   "execution_count": 19,
   "id": "c0b12afc",
   "metadata": {},
   "outputs": [
    {
     "data": {
      "text/plain": [
       "array([[0., 0.],\n",
       "       [0., 0.],\n",
       "       [0., 0.],\n",
       "       [0., 0.],\n",
       "       [0., 0.]], dtype=float32)"
      ]
     },
     "execution_count": 19,
     "metadata": {},
     "output_type": "execute_result"
    }
   ],
   "source": [
    "zeros = np.zeros((5, 2), dtype=np.float32)\n",
    "zeros"
   ]
  },
  {
   "cell_type": "code",
   "execution_count": 20,
   "id": "ac0a4c18",
   "metadata": {},
   "outputs": [
    {
     "name": "stdout",
     "output_type": "stream",
     "text": [
      "(5, 2)\n"
     ]
    }
   ],
   "source": [
    "print(zeros.shape)"
   ]
  },
  {
   "cell_type": "code",
   "execution_count": 21,
   "id": "f3050367",
   "metadata": {},
   "outputs": [
    {
     "data": {
      "text/plain": [
       "array([[1, 2, 3],\n",
       "       [4, 5, 6],\n",
       "       [7, 8, 9]])"
      ]
     },
     "execution_count": 21,
     "metadata": {},
     "output_type": "execute_result"
    }
   ],
   "source": [
    "numbers = [\n",
    "[1, 2, 3],\n",
    "[4, 5, 6],\n",
    "[7, 8, 9]\n",
    "]\n",
    "numbers = np.array(numbers)\n",
    "numbers"
   ]
  },
  {
   "cell_type": "code",
   "execution_count": 22,
   "id": "9b869530",
   "metadata": {},
   "outputs": [
    {
     "name": "stdout",
     "output_type": "stream",
     "text": [
      "2\n"
     ]
    }
   ],
   "source": [
    "print(numbers[0, 1])"
   ]
  },
  {
   "cell_type": "code",
   "execution_count": 23,
   "id": "42127846",
   "metadata": {},
   "outputs": [
    {
     "data": {
      "text/plain": [
       "array([[ 1, 10,  3],\n",
       "       [ 4,  5,  6],\n",
       "       [ 7,  8,  9]])"
      ]
     },
     "execution_count": 23,
     "metadata": {},
     "output_type": "execute_result"
    }
   ],
   "source": [
    "numbers[0, 1] = 10\n",
    "numbers "
   ]
  },
  {
   "cell_type": "code",
   "execution_count": 24,
   "id": "af7f0c50",
   "metadata": {},
   "outputs": [
    {
     "data": {
      "text/plain": [
       "array([ 1, 10,  3])"
      ]
     },
     "execution_count": 24,
     "metadata": {},
     "output_type": "execute_result"
    }
   ],
   "source": [
    "numbers[0]"
   ]
  },
  {
   "cell_type": "code",
   "execution_count": 25,
   "id": "0ca429b8",
   "metadata": {},
   "outputs": [
    {
     "data": {
      "text/plain": [
       "array([[ 1, 10,  3],\n",
       "       [ 1,  1,  1],\n",
       "       [ 7,  8,  9]])"
      ]
     },
     "execution_count": 25,
     "metadata": {},
     "output_type": "execute_result"
    }
   ],
   "source": [
    "numbers[1] = [1, 1, 1]\n",
    "numbers"
   ]
  },
  {
   "cell_type": "code",
   "execution_count": 26,
   "id": "37bcb8db",
   "metadata": {},
   "outputs": [
    {
     "data": {
      "text/plain": [
       "array([[ 1, 10,  9],\n",
       "       [ 1,  1,  9],\n",
       "       [ 7,  8,  9]])"
      ]
     },
     "execution_count": 26,
     "metadata": {},
     "output_type": "execute_result"
    }
   ],
   "source": [
    "numbers[:, 2] = [9, 9, 9]\n",
    "numbers"
   ]
  },
  {
   "cell_type": "markdown",
   "id": "98e1b361",
   "metadata": {},
   "source": [
    "## Randomly generated arrays"
   ]
  },
  {
   "cell_type": "code",
   "execution_count": 29,
   "id": "987b3971",
   "metadata": {},
   "outputs": [
    {
     "data": {
      "text/plain": [
       "array([[0.24569056, 0.57281933],\n",
       "       [0.75940345, 0.65233947],\n",
       "       [0.55466094, 0.22979016],\n",
       "       [0.25383808, 0.11529009],\n",
       "       [0.60232832, 0.30578723]])"
      ]
     },
     "execution_count": 29,
     "metadata": {},
     "output_type": "execute_result"
    }
   ],
   "source": [
    "arr = np.random.rand(5, 2)\n",
    "arr"
   ]
  },
  {
   "cell_type": "code",
   "execution_count": 32,
   "id": "f6dedd29",
   "metadata": {},
   "outputs": [
    {
     "data": {
      "text/plain": [
       "array([[0.4359949 , 0.02592623],\n",
       "       [0.54966248, 0.43532239],\n",
       "       [0.4203678 , 0.33033482],\n",
       "       [0.20464863, 0.61927097],\n",
       "       [0.29965467, 0.26682728]])"
      ]
     },
     "execution_count": 32,
     "metadata": {},
     "output_type": "execute_result"
    }
   ],
   "source": [
    "np.random.seed(2)\n",
    "arr = np.random.rand(5, 2)\n",
    "arr"
   ]
  },
  {
   "cell_type": "code",
   "execution_count": 33,
   "id": "b6c93658",
   "metadata": {},
   "outputs": [
    {
     "data": {
      "text/plain": [
       "array([[-0.41675785, -0.05626683],\n",
       "       [-2.1361961 ,  1.64027081],\n",
       "       [-1.79343559, -0.84174737],\n",
       "       [ 0.50288142, -1.24528809],\n",
       "       [-1.05795222, -0.90900761]])"
      ]
     },
     "execution_count": 33,
     "metadata": {},
     "output_type": "execute_result"
    }
   ],
   "source": [
    "np.random.seed(2)\n",
    "arr = np.random.randn(5, 2)\n",
    "arr"
   ]
  },
  {
   "cell_type": "code",
   "execution_count": 35,
   "id": "786359fa",
   "metadata": {},
   "outputs": [
    {
     "data": {
      "text/plain": [
       "array([[40, 15],\n",
       "       [72, 22],\n",
       "       [43, 82],\n",
       "       [75,  7],\n",
       "       [34, 49]])"
      ]
     },
     "execution_count": 35,
     "metadata": {},
     "output_type": "execute_result"
    }
   ],
   "source": [
    "np.random.seed(2)\n",
    "randint = np.random.randint(low=0, high=100, size=(5, 2))\n",
    "randint"
   ]
  },
  {
   "cell_type": "code",
   "execution_count": 36,
   "id": "4fa870d7",
   "metadata": {},
   "outputs": [
    {
     "name": "stdout",
     "output_type": "stream",
     "text": [
      "before shuffle [0 1 2 3 4]\n",
      "after shuffle [4 0 2 1 3]\n"
     ]
    }
   ],
   "source": [
    "idx = np.arange(5)\n",
    "print('before shuffle', idx)\n",
    "np.random.shuffle(idx)\n",
    "print('after shuffle', idx)"
   ]
  },
  {
   "cell_type": "markdown",
   "id": "44deb4be",
   "metadata": {},
   "source": [
    "## NumPy Operations"
   ]
  },
  {
   "cell_type": "markdown",
   "id": "f0cd30b4",
   "metadata": {},
   "source": [
    "### Element-wise operations"
   ]
  },
  {
   "cell_type": "code",
   "execution_count": 37,
   "id": "5d079dff",
   "metadata": {},
   "outputs": [
    {
     "data": {
      "text/plain": [
       "array([0, 1, 2, 3, 4])"
      ]
     },
     "execution_count": 37,
     "metadata": {},
     "output_type": "execute_result"
    }
   ],
   "source": [
    "rng = np.arange(5)\n",
    "rng"
   ]
  },
  {
   "cell_type": "code",
   "execution_count": 38,
   "id": "11d95efe",
   "metadata": {},
   "outputs": [
    {
     "data": {
      "text/plain": [
       "array([0, 2, 4, 6, 8])"
      ]
     },
     "execution_count": 38,
     "metadata": {},
     "output_type": "execute_result"
    }
   ],
   "source": [
    "rng * 2"
   ]
  },
  {
   "cell_type": "code",
   "execution_count": 39,
   "id": "4eda7b3c",
   "metadata": {},
   "outputs": [
    {
     "data": {
      "text/plain": [
       "array([-0.5,  1. ,  2.5,  4. ,  5.5])"
      ]
     },
     "execution_count": 39,
     "metadata": {},
     "output_type": "execute_result"
    }
   ],
   "source": [
    "(rng - 1) * 3 / 2 + 1"
   ]
  },
  {
   "cell_type": "code",
   "execution_count": 41,
   "id": "5cbb86ba",
   "metadata": {},
   "outputs": [
    {
     "data": {
      "text/plain": [
       "array([0.0044, 1.0003, 2.0055, 3.0044, 4.0042])"
      ]
     },
     "execution_count": 41,
     "metadata": {},
     "output_type": "execute_result"
    }
   ],
   "source": [
    "np.random.seed(2)\n",
    "noise = 0.01 * np.random.rand(5)\n",
    "numbers = np.arange(5)\n",
    "result = numbers + noise\n",
    "result.round(4)"
   ]
  },
  {
   "cell_type": "code",
   "execution_count": 43,
   "id": "8fe0cb83",
   "metadata": {},
   "outputs": [
    {
     "data": {
      "text/plain": [
       "array([0.1936, 0.0009, 0.3025])"
      ]
     },
     "execution_count": 43,
     "metadata": {},
     "output_type": "execute_result"
    }
   ],
   "source": [
    "np.random.seed(2)\n",
    "pred = np.random.rand(3).round(2)\n",
    "pred\n",
    "square = pred ** 2\n",
    "square"
   ]
  },
  {
   "cell_type": "markdown",
   "id": "ad2b9017",
   "metadata": {},
   "source": [
    "### Summarizing Operations"
   ]
  },
  {
   "cell_type": "code",
   "execution_count": 44,
   "id": "5aaab2e0",
   "metadata": {},
   "outputs": [
    {
     "data": {
      "text/plain": [
       "1.02"
      ]
     },
     "execution_count": 44,
     "metadata": {},
     "output_type": "execute_result"
    }
   ],
   "source": [
    "np.random.seed(2)\n",
    "pred = np.random.rand(3).round(2)\n",
    "pred_sum = pred.sum()\n",
    "pred_sum"
   ]
  },
  {
   "cell_type": "code",
   "execution_count": 45,
   "id": "7e12f806",
   "metadata": {},
   "outputs": [
    {
     "name": "stdout",
     "output_type": "stream",
     "text": [
      "min = 0.03\n",
      "mean = 0.34\n",
      "max = 0.55\n",
      "std = 0.22\n"
     ]
    }
   ],
   "source": [
    "print('min = %.2f' % pred.min())\n",
    "print('mean = %.2f' % pred.mean())\n",
    "print('max = %.2f' % pred.max())\n",
    "print('std = %.2f' % pred.std())"
   ]
  },
  {
   "cell_type": "code",
   "execution_count": 46,
   "id": "8e80b7bf",
   "metadata": {},
   "outputs": [
    {
     "data": {
      "text/plain": [
       "array([[0.44, 0.03, 0.55],\n",
       "       [0.44, 0.42, 0.33],\n",
       "       [0.2 , 0.62, 0.3 ],\n",
       "       [0.27, 0.62, 0.53]])"
      ]
     },
     "execution_count": 46,
     "metadata": {},
     "output_type": "execute_result"
    }
   ],
   "source": [
    "np.random.seed(2)\n",
    "matrix = np.random.rand(4, 3).round(2)\n",
    "matrix"
   ]
  },
  {
   "cell_type": "code",
   "execution_count": 47,
   "id": "a4140c09",
   "metadata": {},
   "outputs": [
    {
     "data": {
      "text/plain": [
       "0.62"
      ]
     },
     "execution_count": 47,
     "metadata": {},
     "output_type": "execute_result"
    }
   ],
   "source": [
    "matrix.max()"
   ]
  },
  {
   "cell_type": "markdown",
   "id": "c065c052",
   "metadata": {},
   "source": [
    "### Sorting"
   ]
  },
  {
   "cell_type": "code",
   "execution_count": 48,
   "id": "a8fde18d",
   "metadata": {},
   "outputs": [
    {
     "data": {
      "text/plain": [
       "array([0.44, 0.03, 0.55, 0.44])"
      ]
     },
     "execution_count": 48,
     "metadata": {},
     "output_type": "execute_result"
    }
   ],
   "source": [
    "np.random.seed(2)\n",
    "pred = np.random.rand(4).round(2)\n",
    "pred"
   ]
  },
  {
   "cell_type": "code",
   "execution_count": 49,
   "id": "5e25482d",
   "metadata": {},
   "outputs": [
    {
     "data": {
      "text/plain": [
       "array([0.03, 0.44, 0.44, 0.55])"
      ]
     },
     "execution_count": 49,
     "metadata": {},
     "output_type": "execute_result"
    }
   ],
   "source": [
    "np.sort(pred)"
   ]
  },
  {
   "cell_type": "code",
   "execution_count": 50,
   "id": "ef4a6c26",
   "metadata": {},
   "outputs": [],
   "source": [
    "pred.sort()"
   ]
  },
  {
   "cell_type": "code",
   "execution_count": 51,
   "id": "9ceb30bf",
   "metadata": {},
   "outputs": [
    {
     "data": {
      "text/plain": [
       "array([0.03, 0.44, 0.44, 0.55])"
      ]
     },
     "execution_count": 51,
     "metadata": {},
     "output_type": "execute_result"
    }
   ],
   "source": [
    "pred"
   ]
  },
  {
   "cell_type": "markdown",
   "id": "0ab9d5df",
   "metadata": {},
   "source": [
    "# Pandas"
   ]
  },
  {
   "cell_type": "code",
   "execution_count": 52,
   "id": "f9ce649c",
   "metadata": {},
   "outputs": [],
   "source": [
    "import pandas as pd"
   ]
  },
  {
   "cell_type": "code",
   "execution_count": 57,
   "id": "8449fd9a",
   "metadata": {},
   "outputs": [],
   "source": [
    "data = [\n",
    "['Nissan', 'Stanza', 1991, 138, 4, 'MANUAL', 'sedan', 2000],\n",
    "['Hyundai', 'Sonata', 2017, None, 4, 'AUTOMATIC', 'Sedan', 27150],\n",
    "['Lotus', 'Elise', 2010, 218, 4, 'MANUAL', 'convertable', 54990],\n",
    "['GMC', 'Acadia', 2017, 194, 4, 'AUTOMATIC', '4dr SUV', 34450],\n",
    "['Nissan', 'Frontier', 2017, 261, 6, 'MANUAL', 'Pickup', 32340],\n",
    "]"
   ]
  },
  {
   "cell_type": "code",
   "execution_count": 58,
   "id": "e80df2f2",
   "metadata": {},
   "outputs": [],
   "source": [
    "columns = [\n",
    "'Make', 'Model', 'Year', 'Engine HP', 'Engine Cylinders',\n",
    "'Transmission Type', 'Vehicle_Style', 'MSRP'\n",
    "]"
   ]
  },
  {
   "cell_type": "code",
   "execution_count": 59,
   "id": "5fb4f92b",
   "metadata": {},
   "outputs": [],
   "source": [
    "df = pd.DataFrame(data, columns=columns)"
   ]
  },
  {
   "cell_type": "code",
   "execution_count": 60,
   "id": "1d587e71",
   "metadata": {},
   "outputs": [
    {
     "data": {
      "text/html": [
       "<div>\n",
       "<style scoped>\n",
       "    .dataframe tbody tr th:only-of-type {\n",
       "        vertical-align: middle;\n",
       "    }\n",
       "\n",
       "    .dataframe tbody tr th {\n",
       "        vertical-align: top;\n",
       "    }\n",
       "\n",
       "    .dataframe thead th {\n",
       "        text-align: right;\n",
       "    }\n",
       "</style>\n",
       "<table border=\"1\" class=\"dataframe\">\n",
       "  <thead>\n",
       "    <tr style=\"text-align: right;\">\n",
       "      <th></th>\n",
       "      <th>Make</th>\n",
       "      <th>Model</th>\n",
       "      <th>Year</th>\n",
       "      <th>Engine HP</th>\n",
       "      <th>Engine Cylinders</th>\n",
       "      <th>Transmission Type</th>\n",
       "      <th>Vehicle_Style</th>\n",
       "      <th>MSRP</th>\n",
       "    </tr>\n",
       "  </thead>\n",
       "  <tbody>\n",
       "    <tr>\n",
       "      <th>0</th>\n",
       "      <td>Nissan</td>\n",
       "      <td>Stanza</td>\n",
       "      <td>1991</td>\n",
       "      <td>138.0</td>\n",
       "      <td>4</td>\n",
       "      <td>MANUAL</td>\n",
       "      <td>sedan</td>\n",
       "      <td>2000</td>\n",
       "    </tr>\n",
       "    <tr>\n",
       "      <th>1</th>\n",
       "      <td>Hyundai</td>\n",
       "      <td>Sonata</td>\n",
       "      <td>2017</td>\n",
       "      <td>NaN</td>\n",
       "      <td>4</td>\n",
       "      <td>AUTOMATIC</td>\n",
       "      <td>Sedan</td>\n",
       "      <td>27150</td>\n",
       "    </tr>\n",
       "    <tr>\n",
       "      <th>2</th>\n",
       "      <td>Lotus</td>\n",
       "      <td>Elise</td>\n",
       "      <td>2010</td>\n",
       "      <td>218.0</td>\n",
       "      <td>4</td>\n",
       "      <td>MANUAL</td>\n",
       "      <td>convertable</td>\n",
       "      <td>54990</td>\n",
       "    </tr>\n",
       "    <tr>\n",
       "      <th>3</th>\n",
       "      <td>GMC</td>\n",
       "      <td>Acadia</td>\n",
       "      <td>2017</td>\n",
       "      <td>194.0</td>\n",
       "      <td>4</td>\n",
       "      <td>AUTOMATIC</td>\n",
       "      <td>4dr SUV</td>\n",
       "      <td>34450</td>\n",
       "    </tr>\n",
       "    <tr>\n",
       "      <th>4</th>\n",
       "      <td>Nissan</td>\n",
       "      <td>Frontier</td>\n",
       "      <td>2017</td>\n",
       "      <td>261.0</td>\n",
       "      <td>6</td>\n",
       "      <td>MANUAL</td>\n",
       "      <td>Pickup</td>\n",
       "      <td>32340</td>\n",
       "    </tr>\n",
       "  </tbody>\n",
       "</table>\n",
       "</div>"
      ],
      "text/plain": [
       "      Make     Model  Year  Engine HP  Engine Cylinders Transmission Type  \\\n",
       "0   Nissan    Stanza  1991      138.0                 4            MANUAL   \n",
       "1  Hyundai    Sonata  2017        NaN                 4         AUTOMATIC   \n",
       "2    Lotus     Elise  2010      218.0                 4            MANUAL   \n",
       "3      GMC    Acadia  2017      194.0                 4         AUTOMATIC   \n",
       "4   Nissan  Frontier  2017      261.0                 6            MANUAL   \n",
       "\n",
       "  Vehicle_Style   MSRP  \n",
       "0         sedan   2000  \n",
       "1         Sedan  27150  \n",
       "2   convertable  54990  \n",
       "3       4dr SUV  34450  \n",
       "4        Pickup  32340  "
      ]
     },
     "execution_count": 60,
     "metadata": {},
     "output_type": "execute_result"
    }
   ],
   "source": [
    "df"
   ]
  },
  {
   "cell_type": "code",
   "execution_count": 61,
   "id": "2757f285",
   "metadata": {},
   "outputs": [
    {
     "data": {
      "text/html": [
       "<div>\n",
       "<style scoped>\n",
       "    .dataframe tbody tr th:only-of-type {\n",
       "        vertical-align: middle;\n",
       "    }\n",
       "\n",
       "    .dataframe tbody tr th {\n",
       "        vertical-align: top;\n",
       "    }\n",
       "\n",
       "    .dataframe thead th {\n",
       "        text-align: right;\n",
       "    }\n",
       "</style>\n",
       "<table border=\"1\" class=\"dataframe\">\n",
       "  <thead>\n",
       "    <tr style=\"text-align: right;\">\n",
       "      <th></th>\n",
       "      <th>Make</th>\n",
       "      <th>Model</th>\n",
       "      <th>Year</th>\n",
       "      <th>Engine HP</th>\n",
       "      <th>Engine Cylinders</th>\n",
       "      <th>Transmission Type</th>\n",
       "      <th>Vehicle_Style</th>\n",
       "      <th>MSRP</th>\n",
       "    </tr>\n",
       "  </thead>\n",
       "  <tbody>\n",
       "    <tr>\n",
       "      <th>0</th>\n",
       "      <td>Nissan</td>\n",
       "      <td>Stanza</td>\n",
       "      <td>1991</td>\n",
       "      <td>138.0</td>\n",
       "      <td>4</td>\n",
       "      <td>MANUAL</td>\n",
       "      <td>sedan</td>\n",
       "      <td>2000</td>\n",
       "    </tr>\n",
       "    <tr>\n",
       "      <th>1</th>\n",
       "      <td>Hyundai</td>\n",
       "      <td>Sonata</td>\n",
       "      <td>2017</td>\n",
       "      <td>NaN</td>\n",
       "      <td>4</td>\n",
       "      <td>AUTOMATIC</td>\n",
       "      <td>Sedan</td>\n",
       "      <td>27150</td>\n",
       "    </tr>\n",
       "  </tbody>\n",
       "</table>\n",
       "</div>"
      ],
      "text/plain": [
       "      Make   Model  Year  Engine HP  Engine Cylinders Transmission Type  \\\n",
       "0   Nissan  Stanza  1991      138.0                 4            MANUAL   \n",
       "1  Hyundai  Sonata  2017        NaN                 4         AUTOMATIC   \n",
       "\n",
       "  Vehicle_Style   MSRP  \n",
       "0         sedan   2000  \n",
       "1         Sedan  27150  "
      ]
     },
     "execution_count": 61,
     "metadata": {},
     "output_type": "execute_result"
    }
   ],
   "source": [
    "df.head(n=2)"
   ]
  },
  {
   "cell_type": "code",
   "execution_count": 62,
   "id": "b46807fd",
   "metadata": {},
   "outputs": [
    {
     "data": {
      "text/plain": [
       "0     Nissan\n",
       "1    Hyundai\n",
       "2      Lotus\n",
       "3        GMC\n",
       "4     Nissan\n",
       "Name: Make, dtype: object"
      ]
     },
     "execution_count": 62,
     "metadata": {},
     "output_type": "execute_result"
    }
   ],
   "source": [
    "df.Make"
   ]
  },
  {
   "cell_type": "code",
   "execution_count": 63,
   "id": "43960165",
   "metadata": {},
   "outputs": [
    {
     "data": {
      "text/plain": [
       "0     Nissan\n",
       "1    Hyundai\n",
       "2      Lotus\n",
       "3        GMC\n",
       "4     Nissan\n",
       "Name: Make, dtype: object"
      ]
     },
     "execution_count": 63,
     "metadata": {},
     "output_type": "execute_result"
    }
   ],
   "source": [
    "df['Make']"
   ]
  },
  {
   "cell_type": "code",
   "execution_count": 64,
   "id": "a83941a9",
   "metadata": {},
   "outputs": [
    {
     "data": {
      "text/plain": [
       "0    138.0\n",
       "1      NaN\n",
       "2    218.0\n",
       "3    194.0\n",
       "4    261.0\n",
       "Name: Engine HP, dtype: float64"
      ]
     },
     "execution_count": 64,
     "metadata": {},
     "output_type": "execute_result"
    }
   ],
   "source": [
    "df['Engine HP']"
   ]
  },
  {
   "cell_type": "code",
   "execution_count": 65,
   "id": "a8c22ed7",
   "metadata": {},
   "outputs": [
    {
     "data": {
      "text/plain": [
       "0    138.0\n",
       "1      NaN\n",
       "2    218.0\n",
       "3    194.0\n",
       "4    261.0\n",
       "Name: Engine HP, dtype: float64"
      ]
     },
     "execution_count": 65,
     "metadata": {},
     "output_type": "execute_result"
    }
   ],
   "source": [
    "col_name = 'Engine HP'\n",
    "df[col_name]"
   ]
  },
  {
   "cell_type": "code",
   "execution_count": 66,
   "id": "91ac16f3",
   "metadata": {},
   "outputs": [
    {
     "data": {
      "text/html": [
       "<div>\n",
       "<style scoped>\n",
       "    .dataframe tbody tr th:only-of-type {\n",
       "        vertical-align: middle;\n",
       "    }\n",
       "\n",
       "    .dataframe tbody tr th {\n",
       "        vertical-align: top;\n",
       "    }\n",
       "\n",
       "    .dataframe thead th {\n",
       "        text-align: right;\n",
       "    }\n",
       "</style>\n",
       "<table border=\"1\" class=\"dataframe\">\n",
       "  <thead>\n",
       "    <tr style=\"text-align: right;\">\n",
       "      <th></th>\n",
       "      <th>Make</th>\n",
       "      <th>Model</th>\n",
       "      <th>MSRP</th>\n",
       "    </tr>\n",
       "  </thead>\n",
       "  <tbody>\n",
       "    <tr>\n",
       "      <th>0</th>\n",
       "      <td>Nissan</td>\n",
       "      <td>Stanza</td>\n",
       "      <td>2000</td>\n",
       "    </tr>\n",
       "    <tr>\n",
       "      <th>1</th>\n",
       "      <td>Hyundai</td>\n",
       "      <td>Sonata</td>\n",
       "      <td>27150</td>\n",
       "    </tr>\n",
       "    <tr>\n",
       "      <th>2</th>\n",
       "      <td>Lotus</td>\n",
       "      <td>Elise</td>\n",
       "      <td>54990</td>\n",
       "    </tr>\n",
       "    <tr>\n",
       "      <th>3</th>\n",
       "      <td>GMC</td>\n",
       "      <td>Acadia</td>\n",
       "      <td>34450</td>\n",
       "    </tr>\n",
       "    <tr>\n",
       "      <th>4</th>\n",
       "      <td>Nissan</td>\n",
       "      <td>Frontier</td>\n",
       "      <td>32340</td>\n",
       "    </tr>\n",
       "  </tbody>\n",
       "</table>\n",
       "</div>"
      ],
      "text/plain": [
       "      Make     Model   MSRP\n",
       "0   Nissan    Stanza   2000\n",
       "1  Hyundai    Sonata  27150\n",
       "2    Lotus     Elise  54990\n",
       "3      GMC    Acadia  34450\n",
       "4   Nissan  Frontier  32340"
      ]
     },
     "execution_count": 66,
     "metadata": {},
     "output_type": "execute_result"
    }
   ],
   "source": [
    "df[['Make', 'Model', 'MSRP']]"
   ]
  },
  {
   "cell_type": "code",
   "execution_count": 67,
   "id": "265a7d60",
   "metadata": {},
   "outputs": [],
   "source": [
    "df['id'] = ['nis1', 'hyu1', 'lot2', 'gmc1', 'nis2']"
   ]
  },
  {
   "cell_type": "code",
   "execution_count": 68,
   "id": "38b22e90",
   "metadata": {},
   "outputs": [
    {
     "data": {
      "text/html": [
       "<div>\n",
       "<style scoped>\n",
       "    .dataframe tbody tr th:only-of-type {\n",
       "        vertical-align: middle;\n",
       "    }\n",
       "\n",
       "    .dataframe tbody tr th {\n",
       "        vertical-align: top;\n",
       "    }\n",
       "\n",
       "    .dataframe thead th {\n",
       "        text-align: right;\n",
       "    }\n",
       "</style>\n",
       "<table border=\"1\" class=\"dataframe\">\n",
       "  <thead>\n",
       "    <tr style=\"text-align: right;\">\n",
       "      <th></th>\n",
       "      <th>Make</th>\n",
       "      <th>Model</th>\n",
       "      <th>Year</th>\n",
       "      <th>Engine HP</th>\n",
       "      <th>Engine Cylinders</th>\n",
       "      <th>Transmission Type</th>\n",
       "      <th>Vehicle_Style</th>\n",
       "      <th>MSRP</th>\n",
       "      <th>id</th>\n",
       "    </tr>\n",
       "  </thead>\n",
       "  <tbody>\n",
       "    <tr>\n",
       "      <th>0</th>\n",
       "      <td>Nissan</td>\n",
       "      <td>Stanza</td>\n",
       "      <td>1991</td>\n",
       "      <td>138.0</td>\n",
       "      <td>4</td>\n",
       "      <td>MANUAL</td>\n",
       "      <td>sedan</td>\n",
       "      <td>2000</td>\n",
       "      <td>nis1</td>\n",
       "    </tr>\n",
       "    <tr>\n",
       "      <th>1</th>\n",
       "      <td>Hyundai</td>\n",
       "      <td>Sonata</td>\n",
       "      <td>2017</td>\n",
       "      <td>NaN</td>\n",
       "      <td>4</td>\n",
       "      <td>AUTOMATIC</td>\n",
       "      <td>Sedan</td>\n",
       "      <td>27150</td>\n",
       "      <td>hyu1</td>\n",
       "    </tr>\n",
       "    <tr>\n",
       "      <th>2</th>\n",
       "      <td>Lotus</td>\n",
       "      <td>Elise</td>\n",
       "      <td>2010</td>\n",
       "      <td>218.0</td>\n",
       "      <td>4</td>\n",
       "      <td>MANUAL</td>\n",
       "      <td>convertable</td>\n",
       "      <td>54990</td>\n",
       "      <td>lot2</td>\n",
       "    </tr>\n",
       "    <tr>\n",
       "      <th>3</th>\n",
       "      <td>GMC</td>\n",
       "      <td>Acadia</td>\n",
       "      <td>2017</td>\n",
       "      <td>194.0</td>\n",
       "      <td>4</td>\n",
       "      <td>AUTOMATIC</td>\n",
       "      <td>4dr SUV</td>\n",
       "      <td>34450</td>\n",
       "      <td>gmc1</td>\n",
       "    </tr>\n",
       "    <tr>\n",
       "      <th>4</th>\n",
       "      <td>Nissan</td>\n",
       "      <td>Frontier</td>\n",
       "      <td>2017</td>\n",
       "      <td>261.0</td>\n",
       "      <td>6</td>\n",
       "      <td>MANUAL</td>\n",
       "      <td>Pickup</td>\n",
       "      <td>32340</td>\n",
       "      <td>nis2</td>\n",
       "    </tr>\n",
       "  </tbody>\n",
       "</table>\n",
       "</div>"
      ],
      "text/plain": [
       "      Make     Model  Year  Engine HP  Engine Cylinders Transmission Type  \\\n",
       "0   Nissan    Stanza  1991      138.0                 4            MANUAL   \n",
       "1  Hyundai    Sonata  2017        NaN                 4         AUTOMATIC   \n",
       "2    Lotus     Elise  2010      218.0                 4            MANUAL   \n",
       "3      GMC    Acadia  2017      194.0                 4         AUTOMATIC   \n",
       "4   Nissan  Frontier  2017      261.0                 6            MANUAL   \n",
       "\n",
       "  Vehicle_Style   MSRP    id  \n",
       "0         sedan   2000  nis1  \n",
       "1         Sedan  27150  hyu1  \n",
       "2   convertable  54990  lot2  \n",
       "3       4dr SUV  34450  gmc1  \n",
       "4        Pickup  32340  nis2  "
      ]
     },
     "execution_count": 68,
     "metadata": {},
     "output_type": "execute_result"
    }
   ],
   "source": [
    "df"
   ]
  },
  {
   "cell_type": "code",
   "execution_count": 69,
   "id": "b39a9a15",
   "metadata": {},
   "outputs": [],
   "source": [
    "df['id'] = [1, 2, 3, 4, 5]"
   ]
  },
  {
   "cell_type": "code",
   "execution_count": 70,
   "id": "cfcfec19",
   "metadata": {},
   "outputs": [
    {
     "data": {
      "text/html": [
       "<div>\n",
       "<style scoped>\n",
       "    .dataframe tbody tr th:only-of-type {\n",
       "        vertical-align: middle;\n",
       "    }\n",
       "\n",
       "    .dataframe tbody tr th {\n",
       "        vertical-align: top;\n",
       "    }\n",
       "\n",
       "    .dataframe thead th {\n",
       "        text-align: right;\n",
       "    }\n",
       "</style>\n",
       "<table border=\"1\" class=\"dataframe\">\n",
       "  <thead>\n",
       "    <tr style=\"text-align: right;\">\n",
       "      <th></th>\n",
       "      <th>Make</th>\n",
       "      <th>Model</th>\n",
       "      <th>Year</th>\n",
       "      <th>Engine HP</th>\n",
       "      <th>Engine Cylinders</th>\n",
       "      <th>Transmission Type</th>\n",
       "      <th>Vehicle_Style</th>\n",
       "      <th>MSRP</th>\n",
       "      <th>id</th>\n",
       "    </tr>\n",
       "  </thead>\n",
       "  <tbody>\n",
       "    <tr>\n",
       "      <th>0</th>\n",
       "      <td>Nissan</td>\n",
       "      <td>Stanza</td>\n",
       "      <td>1991</td>\n",
       "      <td>138.0</td>\n",
       "      <td>4</td>\n",
       "      <td>MANUAL</td>\n",
       "      <td>sedan</td>\n",
       "      <td>2000</td>\n",
       "      <td>1</td>\n",
       "    </tr>\n",
       "    <tr>\n",
       "      <th>1</th>\n",
       "      <td>Hyundai</td>\n",
       "      <td>Sonata</td>\n",
       "      <td>2017</td>\n",
       "      <td>NaN</td>\n",
       "      <td>4</td>\n",
       "      <td>AUTOMATIC</td>\n",
       "      <td>Sedan</td>\n",
       "      <td>27150</td>\n",
       "      <td>2</td>\n",
       "    </tr>\n",
       "    <tr>\n",
       "      <th>2</th>\n",
       "      <td>Lotus</td>\n",
       "      <td>Elise</td>\n",
       "      <td>2010</td>\n",
       "      <td>218.0</td>\n",
       "      <td>4</td>\n",
       "      <td>MANUAL</td>\n",
       "      <td>convertable</td>\n",
       "      <td>54990</td>\n",
       "      <td>3</td>\n",
       "    </tr>\n",
       "    <tr>\n",
       "      <th>3</th>\n",
       "      <td>GMC</td>\n",
       "      <td>Acadia</td>\n",
       "      <td>2017</td>\n",
       "      <td>194.0</td>\n",
       "      <td>4</td>\n",
       "      <td>AUTOMATIC</td>\n",
       "      <td>4dr SUV</td>\n",
       "      <td>34450</td>\n",
       "      <td>4</td>\n",
       "    </tr>\n",
       "    <tr>\n",
       "      <th>4</th>\n",
       "      <td>Nissan</td>\n",
       "      <td>Frontier</td>\n",
       "      <td>2017</td>\n",
       "      <td>261.0</td>\n",
       "      <td>6</td>\n",
       "      <td>MANUAL</td>\n",
       "      <td>Pickup</td>\n",
       "      <td>32340</td>\n",
       "      <td>5</td>\n",
       "    </tr>\n",
       "  </tbody>\n",
       "</table>\n",
       "</div>"
      ],
      "text/plain": [
       "      Make     Model  Year  Engine HP  Engine Cylinders Transmission Type  \\\n",
       "0   Nissan    Stanza  1991      138.0                 4            MANUAL   \n",
       "1  Hyundai    Sonata  2017        NaN                 4         AUTOMATIC   \n",
       "2    Lotus     Elise  2010      218.0                 4            MANUAL   \n",
       "3      GMC    Acadia  2017      194.0                 4         AUTOMATIC   \n",
       "4   Nissan  Frontier  2017      261.0                 6            MANUAL   \n",
       "\n",
       "  Vehicle_Style   MSRP  id  \n",
       "0         sedan   2000   1  \n",
       "1         Sedan  27150   2  \n",
       "2   convertable  54990   3  \n",
       "3       4dr SUV  34450   4  \n",
       "4        Pickup  32340   5  "
      ]
     },
     "execution_count": 70,
     "metadata": {},
     "output_type": "execute_result"
    }
   ],
   "source": [
    "df"
   ]
  },
  {
   "cell_type": "code",
   "execution_count": 71,
   "id": "a51acf09",
   "metadata": {},
   "outputs": [],
   "source": [
    "del df['id']"
   ]
  },
  {
   "cell_type": "code",
   "execution_count": 72,
   "id": "34b08795",
   "metadata": {},
   "outputs": [
    {
     "data": {
      "text/html": [
       "<div>\n",
       "<style scoped>\n",
       "    .dataframe tbody tr th:only-of-type {\n",
       "        vertical-align: middle;\n",
       "    }\n",
       "\n",
       "    .dataframe tbody tr th {\n",
       "        vertical-align: top;\n",
       "    }\n",
       "\n",
       "    .dataframe thead th {\n",
       "        text-align: right;\n",
       "    }\n",
       "</style>\n",
       "<table border=\"1\" class=\"dataframe\">\n",
       "  <thead>\n",
       "    <tr style=\"text-align: right;\">\n",
       "      <th></th>\n",
       "      <th>Make</th>\n",
       "      <th>Model</th>\n",
       "      <th>Year</th>\n",
       "      <th>Engine HP</th>\n",
       "      <th>Engine Cylinders</th>\n",
       "      <th>Transmission Type</th>\n",
       "      <th>Vehicle_Style</th>\n",
       "      <th>MSRP</th>\n",
       "    </tr>\n",
       "  </thead>\n",
       "  <tbody>\n",
       "    <tr>\n",
       "      <th>0</th>\n",
       "      <td>Nissan</td>\n",
       "      <td>Stanza</td>\n",
       "      <td>1991</td>\n",
       "      <td>138.0</td>\n",
       "      <td>4</td>\n",
       "      <td>MANUAL</td>\n",
       "      <td>sedan</td>\n",
       "      <td>2000</td>\n",
       "    </tr>\n",
       "    <tr>\n",
       "      <th>1</th>\n",
       "      <td>Hyundai</td>\n",
       "      <td>Sonata</td>\n",
       "      <td>2017</td>\n",
       "      <td>NaN</td>\n",
       "      <td>4</td>\n",
       "      <td>AUTOMATIC</td>\n",
       "      <td>Sedan</td>\n",
       "      <td>27150</td>\n",
       "    </tr>\n",
       "    <tr>\n",
       "      <th>2</th>\n",
       "      <td>Lotus</td>\n",
       "      <td>Elise</td>\n",
       "      <td>2010</td>\n",
       "      <td>218.0</td>\n",
       "      <td>4</td>\n",
       "      <td>MANUAL</td>\n",
       "      <td>convertable</td>\n",
       "      <td>54990</td>\n",
       "    </tr>\n",
       "    <tr>\n",
       "      <th>3</th>\n",
       "      <td>GMC</td>\n",
       "      <td>Acadia</td>\n",
       "      <td>2017</td>\n",
       "      <td>194.0</td>\n",
       "      <td>4</td>\n",
       "      <td>AUTOMATIC</td>\n",
       "      <td>4dr SUV</td>\n",
       "      <td>34450</td>\n",
       "    </tr>\n",
       "    <tr>\n",
       "      <th>4</th>\n",
       "      <td>Nissan</td>\n",
       "      <td>Frontier</td>\n",
       "      <td>2017</td>\n",
       "      <td>261.0</td>\n",
       "      <td>6</td>\n",
       "      <td>MANUAL</td>\n",
       "      <td>Pickup</td>\n",
       "      <td>32340</td>\n",
       "    </tr>\n",
       "  </tbody>\n",
       "</table>\n",
       "</div>"
      ],
      "text/plain": [
       "      Make     Model  Year  Engine HP  Engine Cylinders Transmission Type  \\\n",
       "0   Nissan    Stanza  1991      138.0                 4            MANUAL   \n",
       "1  Hyundai    Sonata  2017        NaN                 4         AUTOMATIC   \n",
       "2    Lotus     Elise  2010      218.0                 4            MANUAL   \n",
       "3      GMC    Acadia  2017      194.0                 4         AUTOMATIC   \n",
       "4   Nissan  Frontier  2017      261.0                 6            MANUAL   \n",
       "\n",
       "  Vehicle_Style   MSRP  \n",
       "0         sedan   2000  \n",
       "1         Sedan  27150  \n",
       "2   convertable  54990  \n",
       "3       4dr SUV  34450  \n",
       "4        Pickup  32340  "
      ]
     },
     "execution_count": 72,
     "metadata": {},
     "output_type": "execute_result"
    }
   ],
   "source": [
    "df"
   ]
  },
  {
   "cell_type": "markdown",
   "id": "cde51c78",
   "metadata": {},
   "source": [
    "## Index"
   ]
  },
  {
   "cell_type": "code",
   "execution_count": 73,
   "id": "667d183e",
   "metadata": {},
   "outputs": [
    {
     "data": {
      "text/plain": [
       "RangeIndex(start=0, stop=5, step=1)"
      ]
     },
     "execution_count": 73,
     "metadata": {},
     "output_type": "execute_result"
    }
   ],
   "source": [
    "df.index"
   ]
  },
  {
   "cell_type": "markdown",
   "id": "8741b085",
   "metadata": {},
   "source": [
    "## Accessin Rows"
   ]
  },
  {
   "cell_type": "code",
   "execution_count": 74,
   "id": "e5fa3064",
   "metadata": {},
   "outputs": [
    {
     "data": {
      "text/plain": [
       "Make                 Nissan\n",
       "Model                Stanza\n",
       "Year                   1991\n",
       "Engine HP             138.0\n",
       "Engine Cylinders          4\n",
       "Transmission Type    MANUAL\n",
       "Vehicle_Style         sedan\n",
       "MSRP                   2000\n",
       "Name: 0, dtype: object"
      ]
     },
     "execution_count": 74,
     "metadata": {},
     "output_type": "execute_result"
    }
   ],
   "source": [
    "df.iloc[0]"
   ]
  },
  {
   "cell_type": "code",
   "execution_count": 75,
   "id": "47d19907",
   "metadata": {},
   "outputs": [
    {
     "data": {
      "text/html": [
       "<div>\n",
       "<style scoped>\n",
       "    .dataframe tbody tr th:only-of-type {\n",
       "        vertical-align: middle;\n",
       "    }\n",
       "\n",
       "    .dataframe tbody tr th {\n",
       "        vertical-align: top;\n",
       "    }\n",
       "\n",
       "    .dataframe thead th {\n",
       "        text-align: right;\n",
       "    }\n",
       "</style>\n",
       "<table border=\"1\" class=\"dataframe\">\n",
       "  <thead>\n",
       "    <tr style=\"text-align: right;\">\n",
       "      <th></th>\n",
       "      <th>Make</th>\n",
       "      <th>Model</th>\n",
       "      <th>Year</th>\n",
       "      <th>Engine HP</th>\n",
       "      <th>Engine Cylinders</th>\n",
       "      <th>Transmission Type</th>\n",
       "      <th>Vehicle_Style</th>\n",
       "      <th>MSRP</th>\n",
       "    </tr>\n",
       "  </thead>\n",
       "  <tbody>\n",
       "    <tr>\n",
       "      <th>2</th>\n",
       "      <td>Lotus</td>\n",
       "      <td>Elise</td>\n",
       "      <td>2010</td>\n",
       "      <td>218.0</td>\n",
       "      <td>4</td>\n",
       "      <td>MANUAL</td>\n",
       "      <td>convertable</td>\n",
       "      <td>54990</td>\n",
       "    </tr>\n",
       "    <tr>\n",
       "      <th>3</th>\n",
       "      <td>GMC</td>\n",
       "      <td>Acadia</td>\n",
       "      <td>2017</td>\n",
       "      <td>194.0</td>\n",
       "      <td>4</td>\n",
       "      <td>AUTOMATIC</td>\n",
       "      <td>4dr SUV</td>\n",
       "      <td>34450</td>\n",
       "    </tr>\n",
       "    <tr>\n",
       "      <th>0</th>\n",
       "      <td>Nissan</td>\n",
       "      <td>Stanza</td>\n",
       "      <td>1991</td>\n",
       "      <td>138.0</td>\n",
       "      <td>4</td>\n",
       "      <td>MANUAL</td>\n",
       "      <td>sedan</td>\n",
       "      <td>2000</td>\n",
       "    </tr>\n",
       "  </tbody>\n",
       "</table>\n",
       "</div>"
      ],
      "text/plain": [
       "     Make   Model  Year  Engine HP  Engine Cylinders Transmission Type  \\\n",
       "2   Lotus   Elise  2010      218.0                 4            MANUAL   \n",
       "3     GMC  Acadia  2017      194.0                 4         AUTOMATIC   \n",
       "0  Nissan  Stanza  1991      138.0                 4            MANUAL   \n",
       "\n",
       "  Vehicle_Style   MSRP  \n",
       "2   convertable  54990  \n",
       "3       4dr SUV  34450  \n",
       "0         sedan   2000  "
      ]
     },
     "execution_count": 75,
     "metadata": {},
     "output_type": "execute_result"
    }
   ],
   "source": [
    "df.iloc[[2, 3, 0]]"
   ]
  },
  {
   "cell_type": "markdown",
   "id": "5c0ddf07",
   "metadata": {},
   "source": [
    "## Spliting a Data Frame"
   ]
  },
  {
   "cell_type": "code",
   "execution_count": 76,
   "id": "574f5e74",
   "metadata": {},
   "outputs": [],
   "source": [
    "n_train = 3\n",
    "n_val = 1\n",
    "n_test = 1"
   ]
  },
  {
   "cell_type": "code",
   "execution_count": 77,
   "id": "10229ee5",
   "metadata": {},
   "outputs": [],
   "source": [
    "df_train = df.iloc[:n_train]\n",
    "df_val = df.iloc[n_train:n_train+n_val]\n",
    "df_test = df.iloc[n_train+n_val:]"
   ]
  },
  {
   "cell_type": "code",
   "execution_count": 78,
   "id": "6bdd16a9",
   "metadata": {},
   "outputs": [
    {
     "data": {
      "text/html": [
       "<div>\n",
       "<style scoped>\n",
       "    .dataframe tbody tr th:only-of-type {\n",
       "        vertical-align: middle;\n",
       "    }\n",
       "\n",
       "    .dataframe tbody tr th {\n",
       "        vertical-align: top;\n",
       "    }\n",
       "\n",
       "    .dataframe thead th {\n",
       "        text-align: right;\n",
       "    }\n",
       "</style>\n",
       "<table border=\"1\" class=\"dataframe\">\n",
       "  <thead>\n",
       "    <tr style=\"text-align: right;\">\n",
       "      <th></th>\n",
       "      <th>Make</th>\n",
       "      <th>Model</th>\n",
       "      <th>Year</th>\n",
       "      <th>Engine HP</th>\n",
       "      <th>Engine Cylinders</th>\n",
       "      <th>Transmission Type</th>\n",
       "      <th>Vehicle_Style</th>\n",
       "      <th>MSRP</th>\n",
       "    </tr>\n",
       "  </thead>\n",
       "  <tbody>\n",
       "    <tr>\n",
       "      <th>0</th>\n",
       "      <td>Nissan</td>\n",
       "      <td>Stanza</td>\n",
       "      <td>1991</td>\n",
       "      <td>138.0</td>\n",
       "      <td>4</td>\n",
       "      <td>MANUAL</td>\n",
       "      <td>sedan</td>\n",
       "      <td>2000</td>\n",
       "    </tr>\n",
       "    <tr>\n",
       "      <th>1</th>\n",
       "      <td>Hyundai</td>\n",
       "      <td>Sonata</td>\n",
       "      <td>2017</td>\n",
       "      <td>NaN</td>\n",
       "      <td>4</td>\n",
       "      <td>AUTOMATIC</td>\n",
       "      <td>Sedan</td>\n",
       "      <td>27150</td>\n",
       "    </tr>\n",
       "    <tr>\n",
       "      <th>2</th>\n",
       "      <td>Lotus</td>\n",
       "      <td>Elise</td>\n",
       "      <td>2010</td>\n",
       "      <td>218.0</td>\n",
       "      <td>4</td>\n",
       "      <td>MANUAL</td>\n",
       "      <td>convertable</td>\n",
       "      <td>54990</td>\n",
       "    </tr>\n",
       "  </tbody>\n",
       "</table>\n",
       "</div>"
      ],
      "text/plain": [
       "      Make   Model  Year  Engine HP  Engine Cylinders Transmission Type  \\\n",
       "0   Nissan  Stanza  1991      138.0                 4            MANUAL   \n",
       "1  Hyundai  Sonata  2017        NaN                 4         AUTOMATIC   \n",
       "2    Lotus   Elise  2010      218.0                 4            MANUAL   \n",
       "\n",
       "  Vehicle_Style   MSRP  \n",
       "0         sedan   2000  \n",
       "1         Sedan  27150  \n",
       "2   convertable  54990  "
      ]
     },
     "execution_count": 78,
     "metadata": {},
     "output_type": "execute_result"
    }
   ],
   "source": [
    "df_train"
   ]
  },
  {
   "cell_type": "code",
   "execution_count": 79,
   "id": "b54af551",
   "metadata": {},
   "outputs": [
    {
     "data": {
      "text/html": [
       "<div>\n",
       "<style scoped>\n",
       "    .dataframe tbody tr th:only-of-type {\n",
       "        vertical-align: middle;\n",
       "    }\n",
       "\n",
       "    .dataframe tbody tr th {\n",
       "        vertical-align: top;\n",
       "    }\n",
       "\n",
       "    .dataframe thead th {\n",
       "        text-align: right;\n",
       "    }\n",
       "</style>\n",
       "<table border=\"1\" class=\"dataframe\">\n",
       "  <thead>\n",
       "    <tr style=\"text-align: right;\">\n",
       "      <th></th>\n",
       "      <th>Make</th>\n",
       "      <th>Model</th>\n",
       "      <th>Year</th>\n",
       "      <th>Engine HP</th>\n",
       "      <th>Engine Cylinders</th>\n",
       "      <th>Transmission Type</th>\n",
       "      <th>Vehicle_Style</th>\n",
       "      <th>MSRP</th>\n",
       "    </tr>\n",
       "  </thead>\n",
       "  <tbody>\n",
       "    <tr>\n",
       "      <th>3</th>\n",
       "      <td>GMC</td>\n",
       "      <td>Acadia</td>\n",
       "      <td>2017</td>\n",
       "      <td>194.0</td>\n",
       "      <td>4</td>\n",
       "      <td>AUTOMATIC</td>\n",
       "      <td>4dr SUV</td>\n",
       "      <td>34450</td>\n",
       "    </tr>\n",
       "  </tbody>\n",
       "</table>\n",
       "</div>"
      ],
      "text/plain": [
       "  Make   Model  Year  Engine HP  Engine Cylinders Transmission Type  \\\n",
       "3  GMC  Acadia  2017      194.0                 4         AUTOMATIC   \n",
       "\n",
       "  Vehicle_Style   MSRP  \n",
       "3       4dr SUV  34450  "
      ]
     },
     "execution_count": 79,
     "metadata": {},
     "output_type": "execute_result"
    }
   ],
   "source": [
    "df_val"
   ]
  },
  {
   "cell_type": "code",
   "execution_count": 80,
   "id": "a89dbd90",
   "metadata": {},
   "outputs": [
    {
     "data": {
      "text/html": [
       "<div>\n",
       "<style scoped>\n",
       "    .dataframe tbody tr th:only-of-type {\n",
       "        vertical-align: middle;\n",
       "    }\n",
       "\n",
       "    .dataframe tbody tr th {\n",
       "        vertical-align: top;\n",
       "    }\n",
       "\n",
       "    .dataframe thead th {\n",
       "        text-align: right;\n",
       "    }\n",
       "</style>\n",
       "<table border=\"1\" class=\"dataframe\">\n",
       "  <thead>\n",
       "    <tr style=\"text-align: right;\">\n",
       "      <th></th>\n",
       "      <th>Make</th>\n",
       "      <th>Model</th>\n",
       "      <th>Year</th>\n",
       "      <th>Engine HP</th>\n",
       "      <th>Engine Cylinders</th>\n",
       "      <th>Transmission Type</th>\n",
       "      <th>Vehicle_Style</th>\n",
       "      <th>MSRP</th>\n",
       "    </tr>\n",
       "  </thead>\n",
       "  <tbody>\n",
       "    <tr>\n",
       "      <th>4</th>\n",
       "      <td>Nissan</td>\n",
       "      <td>Frontier</td>\n",
       "      <td>2017</td>\n",
       "      <td>261.0</td>\n",
       "      <td>6</td>\n",
       "      <td>MANUAL</td>\n",
       "      <td>Pickup</td>\n",
       "      <td>32340</td>\n",
       "    </tr>\n",
       "  </tbody>\n",
       "</table>\n",
       "</div>"
      ],
      "text/plain": [
       "     Make     Model  Year  Engine HP  Engine Cylinders Transmission Type  \\\n",
       "4  Nissan  Frontier  2017      261.0                 6            MANUAL   \n",
       "\n",
       "  Vehicle_Style   MSRP  \n",
       "4        Pickup  32340  "
      ]
     },
     "execution_count": 80,
     "metadata": {},
     "output_type": "execute_result"
    }
   ],
   "source": [
    "df_test"
   ]
  },
  {
   "cell_type": "code",
   "execution_count": null,
   "id": "5ac1ece2",
   "metadata": {},
   "outputs": [],
   "source": []
  }
 ],
 "metadata": {
  "kernelspec": {
   "display_name": "Python 3 (ipykernel)",
   "language": "python",
   "name": "python3"
  },
  "language_info": {
   "codemirror_mode": {
    "name": "ipython",
    "version": 3
   },
   "file_extension": ".py",
   "mimetype": "text/x-python",
   "name": "python",
   "nbconvert_exporter": "python",
   "pygments_lexer": "ipython3",
   "version": "3.11.5"
  }
 },
 "nbformat": 4,
 "nbformat_minor": 5
}
